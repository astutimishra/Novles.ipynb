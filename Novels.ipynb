{
  "nbformat": 4,
  "nbformat_minor": 0,
  "metadata": {
    "colab": {
      "name": "Novels.ipynb",
      "provenance": []
    },
    "kernelspec": {
      "name": "python3",
      "display_name": "Python 3"
    },
    "language_info": {
      "name": "python"
    }
  },
  "cells": [
    {
      "cell_type": "code",
      "metadata": {
        "id": "Vuai5diGAipo"
      },
      "source": [
        "books   = {1244001 : {\"Title\": \"Wings of Fire\",            \"Author\": \"APJ Abdul Kalam\",    \"Genre\": \"Autobiography\",   \"Price\":125, \"Quan\":70},\n",
        "          1244002 : {\"Title\": \"Gddan\",                     \"Author\": \"Munshi Premchand\",   \"Genre\": \"classic\",          \"Price\":100, \"Quan\":80},\n",
        "          1244003 : {\"Title\": \"God of small things\",       \"Author\": \"Arundhati Roy\",      \"Genre\": \"Fiction\",          \"Price\":200, \"Quan\":50},\n",
        "          1244004 : {\"Title\": \"History of medievel India\", \"Author\": \"Satish Chandra\",     \"Genre\": \"Autobiography\",    \"Price\":100, \"Quan\":20},\n",
        "          1244005 : {\"Title\": \"Vanity bagh\",               \"Author\": \"Anees Salim\",        \"Genre\": \"Fiction\",          \"Price\":150, \"Quan\":100},\n",
        "          1244006 : {\"Title\": \"Mahabharata\",               \"Author\": \"William Buck\",       \"Genre\": \"mythology\",        \"Price\":175, \"Quan\":170},\n",
        "          1244007 : {\"Title\": \"Yajnaseni\",                 \"Author\": \"Prtibha Rai\",        \"Genre\": \"biography\",        \"Price\":125, \"Quan\":200},\n",
        "          1244008 : {\"Title\": \"Gaban\",                     \"Author\": \"Munshi Premchand\",   \"Genre\": \"Classic\" ,         \"Price\":100, \"Quan\":70},\n",
        "          1244009 : {\"Title\": \"serious man\",               \"Author\": \"Manu Joseph\" ,       \"Genre\": \"Humour\",           \"Price\":100, \"Quan\":50},\n",
        "          1244010 : {\"Title\": \"Untouchable\",               \"Author\": \"Mulkraj Anand\",      \"Genre\": \"Autobiography\",    \"Price\":50, \"Quan\":70},\n",
        "          1244011 : {\"Title\": \"Mrs.Funnybones\",            \"Author\": \"Twinkle khanna\",     \"Genre\": \"Humuor\",           \"Price\":150, \"Quan\":90},\n",
        "          1244012 : {\"Title\": \"A suitable boy\",            \"Author\": \"Andrew Davis\",       \"Genre\": \"Autobiography\",    \"Price\":100, \"Quan\":20},\n",
        "          1244013 : {\"Title\": \"Ramayana(series)\",          \"Author\": \"C Rajagopalachari\",  \"Genre\": \"Mythology\",        \"Price\":125, \"Quan\":170},\n",
        "          1244014 : {\"Title\": \"Playing it my way\",         \"Author\": \"Sachin Tebdulkar\",   \"Genre\": \"Autobiography\",    \"Price\":175, \"Quan\":100},\n",
        "          1244015 : {\"Title\": \"Autobiography of Yogi\",     \"Author\": \"Paramhans Yoganand\", \"Genre\": \"Autobiography\",    \"Price\":200, \"Quan\":250},\n",
        "          1244016 : {\"Title\": \"Accidental Prime Minister\", \"Author\": \"Sanjaya Baru\",       \"Genre\": \"Autobiography\",    \"Price\":250, \"Quan\":50},\n",
        "          1244017 : {\"Title\": \"2 states\",                  \"Author\": \"chetan bhagat\",      \"Genre\": \"Romantic\",         \"Price\":100, \"Quan\":70},\n",
        "          1244018 : {\"Title\": \"Twelfth fail\",              \"Author\": \"Anurag Pathak\",      \"Genre\": \"Autobiography\",    \"Price\":125, \"Quan\":70},\n",
        "          1244019 : {\"Title\": \"Train to Pakistan\",         \"Author\": \"Khushwant singh\",    \"Genre\": \"History\",          \"Price\":170, \"Quan\":80},\n",
        "          1244020 : {\"Title\": \"Land of 7 rivers\",          \"Author\": \"Sanjeev Sanyalaal\",  \"Genre\": \"History\",          \"Price\":100, \"Quan\":60},\n",
        "          1244021 : {\"Title\": \"Gulliver travels\",          \"Author\": \"Jonathan Swift\",     \"Genre\": \"Science fiction\",  \"Price\":125, \"Quan\":60},\n",
        "          1244022 : {\"Title\": \"The story of mylife\",       \"Author\": \"Helen Keller\",       \"Genre\": \"Autobiography\",    \"Price\":225, \"Quan\":20},\n",
        "          1244023 : {\"Title\": \"The competent authority\",   \"Author\": \"showen chaudhary\",   \"Genre\": \"humourous\",        \"Price\":100, \"Quan\":60},\n",
        "          1244024 : {\"Title\": \"The great Indian novel\",    \"Author\": \"Shashi Tharoor\",     \"Genre\": \"satirical\",        \"Price\":175, \"Quan\":100},\n",
        "          1244025 : {\"Title\": \"what happened to Netaji\",   \"Author\": \"Anuj Dhar\",          \"Genre\": \"Autobiography\",    \"Price\":125, \"Quan\":200},\n",
        "          1244026 : {\"Title\": \"House of blue mangoes\",     \"Author\": \"David Davidar\",      \"Genre\": \"fiction\",          \"Price\":100, \"Quan\":170},\n",
        "          1244027 : {\"Title\": \"The one you can't have\",    \"Author\": \"Preeti Shinoy\",      \"Genre\": \"Romantic\",         \"Price\":125, \"Quan\":270},\n",
        "          1244028 : {\"Title\": \"India wins freedom\",        \"Author\": \"Abul Kalam Azad\",    \"Genre\": \"History\",          \"Price\":125, \"Quan\":70},\n",
        "          1244029 : {\"Title\": \"story of my exp with truth\",\"Author\": \"Mahatama Gandhi\",    \"Genre\": \"Autobiograph\",     \"Price\":200, \"Quan\":50},\n",
        "          1244030 : {\"Title\": \"our moon has blood clots\",  \"Author\": \"Rahul Pandit\",       \"Genre\": \"History\",          \"Price\":100, \"Quan\":170}}"
      ],
      "execution_count": 1,
      "outputs": []
    },
    {
      "cell_type": "code",
      "metadata": {
        "id": "qwUxdGgKDKcB"
      },
      "source": [
        "import json"
      ],
      "execution_count": 2,
      "outputs": []
    },
    {
      "cell_type": "code",
      "metadata": {
        "id": "rmFCJNqZDQpJ"
      },
      "source": [
        "js = json.dumps(books)"
      ],
      "execution_count": 3,
      "outputs": []
    },
    {
      "cell_type": "code",
      "metadata": {
        "id": "CubCrb_uDawx"
      },
      "source": [
        "fd = open(\"books.json\",'w')\n",
        "\n",
        "fd.write(js)\n",
        "\n",
        "fd.close()"
      ],
      "execution_count": 4,
      "outputs": []
    },
    {
      "cell_type": "code",
      "metadata": {
        "id": "4sgVrUeUDiyq"
      },
      "source": [
        "fd = open(\"books.json\",'r')\n",
        "\n",
        "r = fd.read()\n",
        "\n",
        "fd.close()"
      ],
      "execution_count": 5,
      "outputs": []
    },
    {
      "cell_type": "code",
      "metadata": {
        "id": "QYU_j377DofA"
      },
      "source": [
        "books = json.loads(r)"
      ],
      "execution_count": 7,
      "outputs": []
    },
    {
      "cell_type": "code",
      "metadata": {
        "colab": {
          "base_uri": "https://localhost:8080/"
        },
        "id": "c7EkiNn7DskZ",
        "outputId": "36b3acd6-bf2c-42ae-8b36-2f5c59da4cec"
      },
      "source": [
        "books"
      ],
      "execution_count": null,
      "outputs": [
        {
          "output_type": "execute_result",
          "data": {
            "text/plain": [
              "{'1244001': {'Author': 'APJ Abdul Kalam',\n",
              "  'Genre': 'Autobiography',\n",
              "  'Price': 125,\n",
              "  'Quan': 70,\n",
              "  'Title': 'Wings of Fire'},\n",
              " '1244002': {'Author': 'Munshi Premchand',\n",
              "  'Genre': 'classic',\n",
              "  'Price': 100,\n",
              "  'Quan': 80,\n",
              "  'Title': 'Gddan'},\n",
              " '1244003': {'Author': 'Arundhati Roy',\n",
              "  'Genre': 'Fiction',\n",
              "  'Price': 200,\n",
              "  'Quan': 50,\n",
              "  'Title': 'God of small things'},\n",
              " '1244004': {'Author': 'Satish Chandra',\n",
              "  'Genre': 'Autobiography',\n",
              "  'Price': 100,\n",
              "  'Quan': 20,\n",
              "  'Title': 'History of medievel India'},\n",
              " '1244005': {'Author': 'Anees Salim',\n",
              "  'Genre': 'Fiction',\n",
              "  'Price': 150,\n",
              "  'Quan': 100,\n",
              "  'Title': 'Vanity bagh'},\n",
              " '1244006': {'Author': 'William Buck',\n",
              "  'Genre': 'mythology',\n",
              "  'Price': 175,\n",
              "  'Quan': 170,\n",
              "  'Title': 'Mahabharata'},\n",
              " '1244007': {'Author': 'Prtibha Rai',\n",
              "  'Genre': 'biography',\n",
              "  'Price': 125,\n",
              "  'Quan': 200,\n",
              "  'Title': 'Yajnaseni'},\n",
              " '1244008': {'Author': 'Munshi Premchand',\n",
              "  'Genre': 'Classic',\n",
              "  'Price': 100,\n",
              "  'Quan': 70,\n",
              "  'Title': 'Gaban'},\n",
              " '1244009': {'Author': 'Manu Joseph',\n",
              "  'Genre': 'Humour',\n",
              "  'Price': 100,\n",
              "  'Quan': 50,\n",
              "  'Title': 'serious man'},\n",
              " '1244010': {'Author': 'Mulkraj Anand',\n",
              "  'Genre': 'Autobiography',\n",
              "  'Price': 50,\n",
              "  'Quan': 70,\n",
              "  'Title': 'Untouchable'},\n",
              " '1244011': {'Author': 'Twinkle khanna',\n",
              "  'Genre': 'Humuor',\n",
              "  'Price': 150,\n",
              "  'Quan': 90,\n",
              "  'Title': 'Mrs.Funnybones'},\n",
              " '1244012': {'Author': 'Andrew Davis',\n",
              "  'Genre': 'Autobiography',\n",
              "  'Price': 100,\n",
              "  'Quan': 20,\n",
              "  'Title': 'A suitable boy'},\n",
              " '1244013': {'Author': 'C Rajagopalachari',\n",
              "  'Genre': 'Mythology',\n",
              "  'Price': 125,\n",
              "  'Quan': 170,\n",
              "  'Title': 'Ramayana(series)'},\n",
              " '1244014': {'Author': 'Sachin Tebdulkar',\n",
              "  'Genre': 'Autobiography',\n",
              "  'Price': 175,\n",
              "  'Quan': 100,\n",
              "  'Title': 'Playing it my way'},\n",
              " '1244015': {'Author': 'Paramhans Yoganand',\n",
              "  'Genre': 'Autobiography',\n",
              "  'Price': 200,\n",
              "  'Quan': 250,\n",
              "  'Title': 'Autobiography of Yogi'},\n",
              " '1244016': {'Author': 'Sanjaya Baru',\n",
              "  'Genre': 'Autobiography',\n",
              "  'Price': 250,\n",
              "  'Quan': 50,\n",
              "  'Title': 'Accidental Prime Minister'},\n",
              " '1244017': {'Author': 'chetan bhagat',\n",
              "  'Genre': 'Romantic',\n",
              "  'Price': 100,\n",
              "  'Quan': 70,\n",
              "  'Title': '2 states'},\n",
              " '1244018': {'Author': 'Anurag Pathak',\n",
              "  'Genre': 'Autobiography',\n",
              "  'Price': 125,\n",
              "  'Quan': 70,\n",
              "  'Title': 'Twelfth fail'},\n",
              " '1244019': {'Author': 'Khushwant singh',\n",
              "  'Genre': 'History',\n",
              "  'Price': 170,\n",
              "  'Quan': 80,\n",
              "  'Title': 'Train to Pakistan'},\n",
              " '1244020': {'Author': 'Sanjeev Sanyalaal',\n",
              "  'Genre': 'History',\n",
              "  'Price': 100,\n",
              "  'Quan': 60,\n",
              "  'Title': 'Land of 7 rivers'},\n",
              " '1244021': {'Author': 'Jonathan Swift',\n",
              "  'Genre': 'Science fiction',\n",
              "  'Price': 125,\n",
              "  'Quan': 60,\n",
              "  'Title': 'Gulliver travels'},\n",
              " '1244022': {'Author': 'Helen Keller',\n",
              "  'Genre': 'Autobiography',\n",
              "  'Price': 225,\n",
              "  'Quan': 20,\n",
              "  'Title': 'The story of mylife'},\n",
              " '1244023': {'Author': 'showen chaudhary',\n",
              "  'Genre': 'humourous',\n",
              "  'Price': 100,\n",
              "  'Quan': 60,\n",
              "  'Title': 'The competent authority'},\n",
              " '1244024': {'Author': 'Shashi Tharoor',\n",
              "  'Genre': 'satirical',\n",
              "  'Price': 175,\n",
              "  'Quan': 100,\n",
              "  'Title': 'The great Indian novel'},\n",
              " '1244025': {'Author': 'Anuj Dhar',\n",
              "  'Genre': 'Autobiography',\n",
              "  'Price': 125,\n",
              "  'Quan': 200,\n",
              "  'Title': 'what happened to Netaji'},\n",
              " '1244026': {'Author': 'David Davidar',\n",
              "  'Genre': 'fiction',\n",
              "  'Price': 100,\n",
              "  'Quan': 170,\n",
              "  'Title': 'House of blue mangoes'},\n",
              " '1244027': {'Author': 'Preeti Shinoy',\n",
              "  'Genre': 'Romantic',\n",
              "  'Price': 125,\n",
              "  'Quan': 270,\n",
              "  'Title': \"The one you can't have\"},\n",
              " '1244028': {'Author': 'Abul Kalam Azad',\n",
              "  'Genre': 'History',\n",
              "  'Price': 125,\n",
              "  'Quan': 70,\n",
              "  'Title': 'India wins freedom'},\n",
              " '1244029': {'Author': 'Mahatama Gandhi',\n",
              "  'Genre': 'Autobiograph',\n",
              "  'Price': 200,\n",
              "  'Quan': 50,\n",
              "  'Title': 'story of my exp with truth'},\n",
              " '1244030': {'Author': 'Rahul Pandit',\n",
              "  'Genre': 'History',\n",
              "  'Price': 100,\n",
              "  'Quan': 170,\n",
              "  'Title': 'our moon has blood clots'}}"
            ]
          },
          "metadata": {},
          "execution_count": 60
        }
      ]
    },
    {
      "cell_type": "markdown",
      "metadata": {
        "id": "q5NV-biBDxPC"
      },
      "source": [
        "Adding new books to inventory\n"
      ]
    },
    {
      "cell_type": "code",
      "metadata": {
        "colab": {
          "base_uri": "https://localhost:8080/"
        },
        "id": "45KkN63wD89A",
        "outputId": "957ea523-bd3f-4534-f10d-804ce9328c84"
      },
      "source": [
        "books"
      ],
      "execution_count": 8,
      "outputs": [
        {
          "output_type": "execute_result",
          "data": {
            "text/plain": [
              "{'1244001': {'Author': 'APJ Abdul Kalam',\n",
              "  'Genre': 'Autobiography',\n",
              "  'Price': 125,\n",
              "  'Quan': 70,\n",
              "  'Title': 'Wings of Fire'},\n",
              " '1244002': {'Author': 'Munshi Premchand',\n",
              "  'Genre': 'classic',\n",
              "  'Price': 100,\n",
              "  'Quan': 80,\n",
              "  'Title': 'Gddan'},\n",
              " '1244003': {'Author': 'Arundhati Roy',\n",
              "  'Genre': 'Fiction',\n",
              "  'Price': 200,\n",
              "  'Quan': 50,\n",
              "  'Title': 'God of small things'},\n",
              " '1244004': {'Author': 'Satish Chandra',\n",
              "  'Genre': 'Autobiography',\n",
              "  'Price': 100,\n",
              "  'Quan': 20,\n",
              "  'Title': 'History of medievel India'},\n",
              " '1244005': {'Author': 'Anees Salim',\n",
              "  'Genre': 'Fiction',\n",
              "  'Price': 150,\n",
              "  'Quan': 100,\n",
              "  'Title': 'Vanity bagh'},\n",
              " '1244006': {'Author': 'William Buck',\n",
              "  'Genre': 'mythology',\n",
              "  'Price': 175,\n",
              "  'Quan': 170,\n",
              "  'Title': 'Mahabharata'},\n",
              " '1244007': {'Author': 'Prtibha Rai',\n",
              "  'Genre': 'biography',\n",
              "  'Price': 125,\n",
              "  'Quan': 200,\n",
              "  'Title': 'Yajnaseni'},\n",
              " '1244008': {'Author': 'Munshi Premchand',\n",
              "  'Genre': 'Classic',\n",
              "  'Price': 100,\n",
              "  'Quan': 70,\n",
              "  'Title': 'Gaban'},\n",
              " '1244009': {'Author': 'Manu Joseph',\n",
              "  'Genre': 'Humour',\n",
              "  'Price': 100,\n",
              "  'Quan': 50,\n",
              "  'Title': 'serious man'},\n",
              " '1244010': {'Author': 'Mulkraj Anand',\n",
              "  'Genre': 'Autobiography',\n",
              "  'Price': 50,\n",
              "  'Quan': 70,\n",
              "  'Title': 'Untouchable'},\n",
              " '1244011': {'Author': 'Twinkle khanna',\n",
              "  'Genre': 'Humuor',\n",
              "  'Price': 150,\n",
              "  'Quan': 90,\n",
              "  'Title': 'Mrs.Funnybones'},\n",
              " '1244012': {'Author': 'Andrew Davis',\n",
              "  'Genre': 'Autobiography',\n",
              "  'Price': 100,\n",
              "  'Quan': 20,\n",
              "  'Title': 'A suitable boy'},\n",
              " '1244013': {'Author': 'C Rajagopalachari',\n",
              "  'Genre': 'Mythology',\n",
              "  'Price': 125,\n",
              "  'Quan': 170,\n",
              "  'Title': 'Ramayana(series)'},\n",
              " '1244014': {'Author': 'Sachin Tebdulkar',\n",
              "  'Genre': 'Autobiography',\n",
              "  'Price': 175,\n",
              "  'Quan': 100,\n",
              "  'Title': 'Playing it my way'},\n",
              " '1244015': {'Author': 'Paramhans Yoganand',\n",
              "  'Genre': 'Autobiography',\n",
              "  'Price': 200,\n",
              "  'Quan': 250,\n",
              "  'Title': 'Autobiography of Yogi'},\n",
              " '1244016': {'Author': 'Sanjaya Baru',\n",
              "  'Genre': 'Autobiography',\n",
              "  'Price': 250,\n",
              "  'Quan': 50,\n",
              "  'Title': 'Accidental Prime Minister'},\n",
              " '1244017': {'Author': 'chetan bhagat',\n",
              "  'Genre': 'Romantic',\n",
              "  'Price': 100,\n",
              "  'Quan': 70,\n",
              "  'Title': '2 states'},\n",
              " '1244018': {'Author': 'Anurag Pathak',\n",
              "  'Genre': 'Autobiography',\n",
              "  'Price': 125,\n",
              "  'Quan': 70,\n",
              "  'Title': 'Twelfth fail'},\n",
              " '1244019': {'Author': 'Khushwant singh',\n",
              "  'Genre': 'History',\n",
              "  'Price': 170,\n",
              "  'Quan': 80,\n",
              "  'Title': 'Train to Pakistan'},\n",
              " '1244020': {'Author': 'Sanjeev Sanyalaal',\n",
              "  'Genre': 'History',\n",
              "  'Price': 100,\n",
              "  'Quan': 60,\n",
              "  'Title': 'Land of 7 rivers'},\n",
              " '1244021': {'Author': 'Jonathan Swift',\n",
              "  'Genre': 'Science fiction',\n",
              "  'Price': 125,\n",
              "  'Quan': 60,\n",
              "  'Title': 'Gulliver travels'},\n",
              " '1244022': {'Author': 'Helen Keller',\n",
              "  'Genre': 'Autobiography',\n",
              "  'Price': 225,\n",
              "  'Quan': 20,\n",
              "  'Title': 'The story of mylife'},\n",
              " '1244023': {'Author': 'showen chaudhary',\n",
              "  'Genre': 'humourous',\n",
              "  'Price': 100,\n",
              "  'Quan': 60,\n",
              "  'Title': 'The competent authority'},\n",
              " '1244024': {'Author': 'Shashi Tharoor',\n",
              "  'Genre': 'satirical',\n",
              "  'Price': 175,\n",
              "  'Quan': 100,\n",
              "  'Title': 'The great Indian novel'},\n",
              " '1244025': {'Author': 'Anuj Dhar',\n",
              "  'Genre': 'Autobiography',\n",
              "  'Price': 125,\n",
              "  'Quan': 200,\n",
              "  'Title': 'what happened to Netaji'},\n",
              " '1244026': {'Author': 'David Davidar',\n",
              "  'Genre': 'fiction',\n",
              "  'Price': 100,\n",
              "  'Quan': 170,\n",
              "  'Title': 'House of blue mangoes'},\n",
              " '1244027': {'Author': 'Preeti Shinoy',\n",
              "  'Genre': 'Romantic',\n",
              "  'Price': 125,\n",
              "  'Quan': 270,\n",
              "  'Title': \"The one you can't have\"},\n",
              " '1244028': {'Author': 'Abul Kalam Azad',\n",
              "  'Genre': 'History',\n",
              "  'Price': 125,\n",
              "  'Quan': 70,\n",
              "  'Title': 'India wins freedom'},\n",
              " '1244029': {'Author': 'Mahatama Gandhi',\n",
              "  'Genre': 'Autobiograph',\n",
              "  'Price': 200,\n",
              "  'Quan': 50,\n",
              "  'Title': 'story of my exp with truth'},\n",
              " '1244030': {'Author': 'Rahul Pandit',\n",
              "  'Genre': 'History',\n",
              "  'Price': 100,\n",
              "  'Quan': 170,\n",
              "  'Title': 'our moon has blood clots'}}"
            ]
          },
          "metadata": {},
          "execution_count": 8
        }
      ]
    },
    {
      "cell_type": "code",
      "metadata": {
        "colab": {
          "base_uri": "https://localhost:8080/"
        },
        "id": "7ctumn9FEFtI",
        "outputId": "46684ccd-89df-47e0-c958-b065859a406a"
      },
      "source": [
        "Prod_id = str(input(\"enter the pid: \"))\n",
        "Title_name = str(input(\"enter title of book: \"))\n",
        "Author_name = str(input(\"enter the author name: \"))\n",
        "Genre = str(input(\"enter the genre: \"))\n",
        "Price = int(input(\"enter the price: \"))\n",
        "Quantity = int(input(\"enter the total quantity: \"))\n",
        "\n",
        "\n",
        "books[Prod_id] = {\"Title\" : Title_name, \"Author\" : Author_name, \"Genre\" : Genre, \"Price\" : Price, \"Quan\" : Quantity}\n",
        "\n",
        "js = json.dumps(books)\n",
        "\n",
        "fd = open(\"books.json\",\"w\")\n",
        "fd.write(js)\n",
        "fd.close()"
      ],
      "execution_count": 17,
      "outputs": [
        {
          "name": "stdout",
          "output_type": "stream",
          "text": [
            "enter the pid: 1244033\n",
            "enter title of book: The Great Gatsby\n",
            "enter the author name: F.scott fitzgerld\n",
            "enter the genre: classic\n",
            "enter the price: 200\n",
            "enter the total quantity: 25\n"
          ]
        }
      ]
    },
    {
      "cell_type": "markdown",
      "metadata": {
        "id": "urjJ01gkdiyH"
      },
      "source": [
        "Reading The inventory\n"
      ]
    },
    {
      "cell_type": "code",
      "metadata": {
        "id": "RDmBUmG6Ga1G"
      },
      "source": [
        "import json"
      ],
      "execution_count": 18,
      "outputs": []
    },
    {
      "cell_type": "code",
      "metadata": {
        "id": "buw-A_1WGd5n"
      },
      "source": [
        "fd = open(\"books.json\",\"r\")\n",
        "r = fd.read()\n",
        "fd.close()\n",
        "\n",
        "products = json.loads(r)"
      ],
      "execution_count": 19,
      "outputs": []
    },
    {
      "cell_type": "code",
      "metadata": {
        "colab": {
          "base_uri": "https://localhost:8080/"
        },
        "id": "Ll0twzqvGxi3",
        "outputId": "89e1b2d3-baec-4e15-9b54-e04f99571f65"
      },
      "source": [
        "books"
      ],
      "execution_count": 20,
      "outputs": [
        {
          "output_type": "execute_result",
          "data": {
            "text/plain": [
              "{'1244001': {'Author': 'APJ Abdul Kalam',\n",
              "  'Genre': 'Autobiography',\n",
              "  'Price': 125,\n",
              "  'Quan': 70,\n",
              "  'Title': 'Wings of Fire'},\n",
              " '1244002': {'Author': 'Munshi Premchand',\n",
              "  'Genre': 'classic',\n",
              "  'Price': 100,\n",
              "  'Quan': 80,\n",
              "  'Title': 'Gddan'},\n",
              " '1244003': {'Author': 'Arundhati Roy',\n",
              "  'Genre': 'Fiction',\n",
              "  'Price': 200,\n",
              "  'Quan': 50,\n",
              "  'Title': 'God of small things'},\n",
              " '1244004': {'Author': 'Satish Chandra',\n",
              "  'Genre': 'Autobiography',\n",
              "  'Price': 100,\n",
              "  'Quan': 20,\n",
              "  'Title': 'History of medievel India'},\n",
              " '1244005': {'Author': 'Anees Salim',\n",
              "  'Genre': 'Fiction',\n",
              "  'Price': 150,\n",
              "  'Quan': 100,\n",
              "  'Title': 'Vanity bagh'},\n",
              " '1244006': {'Author': 'William Buck',\n",
              "  'Genre': 'mythology',\n",
              "  'Price': 175,\n",
              "  'Quan': 170,\n",
              "  'Title': 'Mahabharata'},\n",
              " '1244007': {'Author': 'Prtibha Rai',\n",
              "  'Genre': 'biography',\n",
              "  'Price': 125,\n",
              "  'Quan': 200,\n",
              "  'Title': 'Yajnaseni'},\n",
              " '1244008': {'Author': 'Munshi Premchand',\n",
              "  'Genre': 'Classic',\n",
              "  'Price': 100,\n",
              "  'Quan': 70,\n",
              "  'Title': 'Gaban'},\n",
              " '1244009': {'Author': 'Manu Joseph',\n",
              "  'Genre': 'Humour',\n",
              "  'Price': 100,\n",
              "  'Quan': 50,\n",
              "  'Title': 'serious man'},\n",
              " '1244010': {'Author': 'Mulkraj Anand',\n",
              "  'Genre': 'Autobiography',\n",
              "  'Price': 50,\n",
              "  'Quan': 70,\n",
              "  'Title': 'Untouchable'},\n",
              " '1244011': {'Author': 'Twinkle khanna',\n",
              "  'Genre': 'Humuor',\n",
              "  'Price': 150,\n",
              "  'Quan': 90,\n",
              "  'Title': 'Mrs.Funnybones'},\n",
              " '1244012': {'Author': 'Andrew Davis',\n",
              "  'Genre': 'Autobiography',\n",
              "  'Price': 100,\n",
              "  'Quan': 20,\n",
              "  'Title': 'A suitable boy'},\n",
              " '1244013': {'Author': 'C Rajagopalachari',\n",
              "  'Genre': 'Mythology',\n",
              "  'Price': 125,\n",
              "  'Quan': 170,\n",
              "  'Title': 'Ramayana(series)'},\n",
              " '1244014': {'Author': 'Sachin Tebdulkar',\n",
              "  'Genre': 'Autobiography',\n",
              "  'Price': 175,\n",
              "  'Quan': 100,\n",
              "  'Title': 'Playing it my way'},\n",
              " '1244015': {'Author': 'Paramhans Yoganand',\n",
              "  'Genre': 'Autobiography',\n",
              "  'Price': 200,\n",
              "  'Quan': 250,\n",
              "  'Title': 'Autobiography of Yogi'},\n",
              " '1244016': {'Author': 'Sanjaya Baru',\n",
              "  'Genre': 'Autobiography',\n",
              "  'Price': 250,\n",
              "  'Quan': 50,\n",
              "  'Title': 'Accidental Prime Minister'},\n",
              " '1244017': {'Author': 'chetan bhagat',\n",
              "  'Genre': 'Romantic',\n",
              "  'Price': 100,\n",
              "  'Quan': 70,\n",
              "  'Title': '2 states'},\n",
              " '1244018': {'Author': 'Anurag Pathak',\n",
              "  'Genre': 'Autobiography',\n",
              "  'Price': 125,\n",
              "  'Quan': 70,\n",
              "  'Title': 'Twelfth fail'},\n",
              " '1244019': {'Author': 'Khushwant singh',\n",
              "  'Genre': 'History',\n",
              "  'Price': 170,\n",
              "  'Quan': 80,\n",
              "  'Title': 'Train to Pakistan'},\n",
              " '1244020': {'Author': 'Sanjeev Sanyalaal',\n",
              "  'Genre': 'History',\n",
              "  'Price': 100,\n",
              "  'Quan': 60,\n",
              "  'Title': 'Land of 7 rivers'},\n",
              " '1244021': {'Author': 'Jonathan Swift',\n",
              "  'Genre': 'Science fiction',\n",
              "  'Price': 125,\n",
              "  'Quan': 60,\n",
              "  'Title': 'Gulliver travels'},\n",
              " '1244022': {'Author': 'Helen Keller',\n",
              "  'Genre': 'Autobiography',\n",
              "  'Price': 225,\n",
              "  'Quan': 20,\n",
              "  'Title': 'The story of mylife'},\n",
              " '1244023': {'Author': 'showen chaudhary',\n",
              "  'Genre': 'humourous',\n",
              "  'Price': 100,\n",
              "  'Quan': 60,\n",
              "  'Title': 'The competent authority'},\n",
              " '1244024': {'Author': 'Shashi Tharoor',\n",
              "  'Genre': 'satirical',\n",
              "  'Price': 175,\n",
              "  'Quan': 100,\n",
              "  'Title': 'The great Indian novel'},\n",
              " '1244025': {'Author': 'Anuj Dhar',\n",
              "  'Genre': 'Autobiography',\n",
              "  'Price': 125,\n",
              "  'Quan': 200,\n",
              "  'Title': 'what happened to Netaji'},\n",
              " '1244026': {'Author': 'David Davidar',\n",
              "  'Genre': 'fiction',\n",
              "  'Price': 100,\n",
              "  'Quan': 170,\n",
              "  'Title': 'House of blue mangoes'},\n",
              " '1244027': {'Author': 'Preeti Shinoy',\n",
              "  'Genre': 'Romantic',\n",
              "  'Price': 125,\n",
              "  'Quan': 270,\n",
              "  'Title': \"The one you can't have\"},\n",
              " '1244028': {'Author': 'Abul Kalam Azad',\n",
              "  'Genre': 'History',\n",
              "  'Price': 125,\n",
              "  'Quan': 70,\n",
              "  'Title': 'India wins freedom'},\n",
              " '1244029': {'Author': 'Mahatama Gandhi',\n",
              "  'Genre': 'Autobiograph',\n",
              "  'Price': 200,\n",
              "  'Quan': 50,\n",
              "  'Title': 'story of my exp with truth'},\n",
              " '1244030': {'Author': 'Rahul Pandit',\n",
              "  'Genre': 'History',\n",
              "  'Price': 100,\n",
              "  'Quan': 170,\n",
              "  'Title': 'our moon has blood clots'},\n",
              " '1244031': {'Author': 'Anne Frank',\n",
              "  'Genre': 'biography',\n",
              "  'Price': 125,\n",
              "  'Quan': 50,\n",
              "  'Title': 'the diary of a young girl'},\n",
              " '1244032': {'Author': 'paulo kualo',\n",
              "  'Genre': 'fiction',\n",
              "  'Price': 100,\n",
              "  'Quan': 60,\n",
              "  'Title': 'The Alchaemist'},\n",
              " '1244033': {'Author': 'F.scott fitzgerld',\n",
              "  'Genre': 'classic',\n",
              "  'Price': 200,\n",
              "  'Quan': 25,\n",
              "  'Title': 'The Great Gatsby'}}"
            ]
          },
          "metadata": {},
          "execution_count": 20
        }
      ]
    },
    {
      "cell_type": "markdown",
      "metadata": {
        "id": "NE2t6CfqG2eR"
      },
      "source": [
        "Purchase\n"
      ]
    },
    {
      "cell_type": "code",
      "metadata": {
        "colab": {
          "base_uri": "https://localhost:8080/"
        },
        "id": "nh_wFepQHPdG",
        "outputId": "9311451e-bd78-47b1-8581-c2326f69cb8d"
      },
      "source": [
        "book_id = str(input(\"enter the pid: \"))\n",
        "book_quan = int(input(\"enter the quantity: \"))\n",
        "#customer information\n",
        "cust_name = str(input(\"Enter your name: \"))\n",
        "cust_num = int(input(\"Enter your number: \"))\n",
        "cust_adrs = str(input(\"enter address: \"))\n",
        "print(\"#########BILLING RECIEPT#########\")\n",
        "print(\"Name of the buyer: \",cust_name)\n",
        "print(\"contact number: \",cust_num)\n",
        "print(\"address: \",cust_adrs)\n",
        "print(\"product: \",books[book_id]['Title'])\n",
        "print(\"price: \",books[book_id]['Price'])\n",
        "print(\"Billing Amount: \",books[book_id]['Price'] * book_quan)\n",
        "\n",
        "books[book_id]['Quan'] = books[book_id]['Quan'] - book_quan"
      ],
      "execution_count": 27,
      "outputs": [
        {
          "output_type": "stream",
          "name": "stdout",
          "text": [
            "enter the pid: 1244026\n",
            "enter the quantity: 7\n",
            "Enter your name: Archi Jain\n",
            "Enter your number: 8037965677\n",
            "enter address: jaamnagar 35/667\n",
            "#########BILLING RECIEPT#########\n",
            "Name of the buyer:  Archi Jain\n",
            "contact number:  8037965677\n",
            "address:  jaamnagar 35/667\n",
            "product:  House of blue mangoes\n",
            "price:  100\n",
            "Billing Amount:  700\n"
          ]
        }
      ]
    },
    {
      "cell_type": "markdown",
      "metadata": {
        "id": "WLUWadITH3G4"
      },
      "source": [
        "Update Inventory"
      ]
    },
    {
      "cell_type": "code",
      "metadata": {
        "id": "WpGn5FYkH5oN"
      },
      "source": [
        "js = json.dumps(books)\n",
        "\n",
        "fd = open(\"books.json\",\"w\")\n",
        "fd.write(js)\n",
        "fd.close()"
      ],
      "execution_count": 28,
      "outputs": []
    },
    {
      "cell_type": "markdown",
      "metadata": {
        "id": "69nfXmkwIBWL"
      },
      "source": [
        "Read The Data"
      ]
    },
    {
      "cell_type": "code",
      "metadata": {
        "id": "hrXV3Z-zIDL4"
      },
      "source": [
        "fd = open(\"books.json\",\"r\")\n",
        "r = fd.read()\n",
        "fd.close()"
      ],
      "execution_count": 29,
      "outputs": []
    },
    {
      "cell_type": "code",
      "metadata": {
        "colab": {
          "base_uri": "https://localhost:8080/",
          "height": 579
        },
        "id": "4Uz4eVDtIJJY",
        "outputId": "2ee6b6f0-5ac9-43eb-a3e7-3fcf90eb357d"
      },
      "source": [
        "r"
      ],
      "execution_count": 30,
      "outputs": [
        {
          "output_type": "execute_result",
          "data": {
            "application/vnd.google.colaboratory.intrinsic+json": {
              "type": "string"
            },
            "text/plain": [
              "'{\"1244001\": {\"Title\": \"Wings of Fire\", \"Author\": \"APJ Abdul Kalam\", \"Genre\": \"Autobiography\", \"Price\": 125, \"Quan\": 70}, \"1244002\": {\"Title\": \"Gddan\", \"Author\": \"Munshi Premchand\", \"Genre\": \"classic\", \"Price\": 100, \"Quan\": 80}, \"1244003\": {\"Title\": \"God of small things\", \"Author\": \"Arundhati Roy\", \"Genre\": \"Fiction\", \"Price\": 200, \"Quan\": 50}, \"1244004\": {\"Title\": \"History of medievel India\", \"Author\": \"Satish Chandra\", \"Genre\": \"Autobiography\", \"Price\": 100, \"Quan\": 20}, \"1244005\": {\"Title\": \"Vanity bagh\", \"Author\": \"Anees Salim\", \"Genre\": \"Fiction\", \"Price\": 150, \"Quan\": 100}, \"1244006\": {\"Title\": \"Mahabharata\", \"Author\": \"William Buck\", \"Genre\": \"mythology\", \"Price\": 175, \"Quan\": 170}, \"1244007\": {\"Title\": \"Yajnaseni\", \"Author\": \"Prtibha Rai\", \"Genre\": \"biography\", \"Price\": 125, \"Quan\": 200}, \"1244008\": {\"Title\": \"Gaban\", \"Author\": \"Munshi Premchand\", \"Genre\": \"Classic\", \"Price\": 100, \"Quan\": 70}, \"1244009\": {\"Title\": \"serious man\", \"Author\": \"Manu Joseph\", \"Genre\": \"Humour\", \"Price\": 100, \"Quan\": 50}, \"1244010\": {\"Title\": \"Untouchable\", \"Author\": \"Mulkraj Anand\", \"Genre\": \"Autobiography\", \"Price\": 50, \"Quan\": 70}, \"1244011\": {\"Title\": \"Mrs.Funnybones\", \"Author\": \"Twinkle khanna\", \"Genre\": \"Humuor\", \"Price\": 150, \"Quan\": 90}, \"1244012\": {\"Title\": \"A suitable boy\", \"Author\": \"Andrew Davis\", \"Genre\": \"Autobiography\", \"Price\": 100, \"Quan\": 20}, \"1244013\": {\"Title\": \"Ramayana(series)\", \"Author\": \"C Rajagopalachari\", \"Genre\": \"Mythology\", \"Price\": 125, \"Quan\": 170}, \"1244014\": {\"Title\": \"Playing it my way\", \"Author\": \"Sachin Tebdulkar\", \"Genre\": \"Autobiography\", \"Price\": 175, \"Quan\": 100}, \"1244015\": {\"Title\": \"Autobiography of Yogi\", \"Author\": \"Paramhans Yoganand\", \"Genre\": \"Autobiography\", \"Price\": 200, \"Quan\": 250}, \"1244016\": {\"Title\": \"Accidental Prime Minister\", \"Author\": \"Sanjaya Baru\", \"Genre\": \"Autobiography\", \"Price\": 250, \"Quan\": 50}, \"1244017\": {\"Title\": \"2 states\", \"Author\": \"chetan bhagat\", \"Genre\": \"Romantic\", \"Price\": 100, \"Quan\": 70}, \"1244018\": {\"Title\": \"Twelfth fail\", \"Author\": \"Anurag Pathak\", \"Genre\": \"Autobiography\", \"Price\": 125, \"Quan\": 70}, \"1244019\": {\"Title\": \"Train to Pakistan\", \"Author\": \"Khushwant singh\", \"Genre\": \"History\", \"Price\": 170, \"Quan\": 80}, \"1244020\": {\"Title\": \"Land of 7 rivers\", \"Author\": \"Sanjeev Sanyalaal\", \"Genre\": \"History\", \"Price\": 100, \"Quan\": 60}, \"1244021\": {\"Title\": \"Gulliver travels\", \"Author\": \"Jonathan Swift\", \"Genre\": \"Science fiction\", \"Price\": 125, \"Quan\": 55}, \"1244022\": {\"Title\": \"The story of mylife\", \"Author\": \"Helen Keller\", \"Genre\": \"Autobiography\", \"Price\": 225, \"Quan\": 20}, \"1244023\": {\"Title\": \"The competent authority\", \"Author\": \"showen chaudhary\", \"Genre\": \"humourous\", \"Price\": 100, \"Quan\": 60}, \"1244024\": {\"Title\": \"The great Indian novel\", \"Author\": \"Shashi Tharoor\", \"Genre\": \"satirical\", \"Price\": 175, \"Quan\": 95}, \"1244025\": {\"Title\": \"what happened to Netaji\", \"Author\": \"Anuj Dhar\", \"Genre\": \"Autobiography\", \"Price\": 125, \"Quan\": 200}, \"1244026\": {\"Title\": \"House of blue mangoes\", \"Author\": \"David Davidar\", \"Genre\": \"fiction\", \"Price\": 100, \"Quan\": 163}, \"1244027\": {\"Title\": \"The one you can\\'t have\", \"Author\": \"Preeti Shinoy\", \"Genre\": \"Romantic\", \"Price\": 125, \"Quan\": 270}, \"1244028\": {\"Title\": \"India wins freedom\", \"Author\": \"Abul Kalam Azad\", \"Genre\": \"History\", \"Price\": 125, \"Quan\": 70}, \"1244029\": {\"Title\": \"story of my exp with truth\", \"Author\": \"Mahatama Gandhi\", \"Genre\": \"Autobiograph\", \"Price\": 200, \"Quan\": 50}, \"1244030\": {\"Title\": \"our moon has blood clots\", \"Author\": \"Rahul Pandit\", \"Genre\": \"History\", \"Price\": 100, \"Quan\": 170}, \"1244031\": {\"Title\": \"the diary of a young girl\", \"Author\": \"Anne Frank\", \"Genre\": \"biography\", \"Price\": 125, \"Quan\": 50}, \"1244032\": {\"Title\": \"The Alchaemist\", \"Author\": \"paulo kualo\", \"Genre\": \"fiction\", \"Price\": 100, \"Quan\": 58}, \"1244033\": {\"Title\": \"The Great Gatsby\", \"Author\": \"F.scott fitzgerld\", \"Genre\": \"classic\", \"Price\": 200, \"Quan\": 25}}'"
            ]
          },
          "metadata": {},
          "execution_count": 30
        }
      ]
    },
    {
      "cell_type": "markdown",
      "metadata": {
        "id": "-MZkDInCIMMt"
      },
      "source": [
        "Sale Products\n"
      ]
    },
    {
      "cell_type": "code",
      "metadata": {
        "id": "kSoR_HP3IdWm"
      },
      "source": [
        "sales = {1 : {'prod' : book_id, 'qn' : book_quan, 'amount' : products[book_id]['Price'] * book_quan, 'user name' : cust_name, 'user number' : cust_num, 'user address' : cust_adrs },\n",
        "         2 : {'prod' : book_id, 'qn' : book_quan, 'amount' : products[book_id]['Price'] * book_quan, 'user name' : cust_name, 'user number' : cust_num, 'user address' : cust_adrs },\n",
        "         3 : {'prod' : book_id, 'qn' : book_quan, 'amount' : products[book_id]['Price'] * book_quan, 'user name' : cust_name, 'user number' : cust_num, 'user address' : cust_adrs}}"
      ],
      "execution_count": 40,
      "outputs": []
    },
    {
      "cell_type": "code",
      "metadata": {
        "colab": {
          "base_uri": "https://localhost:8080/",
          "height": 86
        },
        "id": "W_yzdOvqIiWA",
        "outputId": "6cc15a85-9a2d-4d0d-929e-f496b89afe8b"
      },
      "source": [
        "json.dumps(sales)"
      ],
      "execution_count": 41,
      "outputs": [
        {
          "output_type": "execute_result",
          "data": {
            "application/vnd.google.colaboratory.intrinsic+json": {
              "type": "string"
            },
            "text/plain": [
              "'{\"1\": {\"prod\": \"1244026\", \"qn\": 7, \"amount\": 700, \"user name\": \"Archi Jain\", \"user number\": 8037965677, \"user address\": \"jaamnagar 35/667\"}, \"2\": {\"prod\": \"1244026\", \"qn\": 7, \"amount\": 700, \"user name\": \"Archi Jain\", \"user number\": 8037965677, \"user address\": \"jaamnagar 35/667\"}, \"3\": {\"prod\": \"1244026\", \"qn\": 7, \"amount\": 700, \"user name\": \"Archi Jain\", \"user number\": 8037965677, \"user address\": \"jaamnagar 35/667\"}}'"
            ]
          },
          "metadata": {},
          "execution_count": 41
        }
      ]
    },
    {
      "cell_type": "code",
      "metadata": {
        "id": "FAAOGwCoImXt"
      },
      "source": [
        "fd = open(\"books.json\",\"r\")\n",
        "r = fd.read()\n",
        "fd.close()"
      ],
      "execution_count": 42,
      "outputs": []
    },
    {
      "cell_type": "code",
      "metadata": {
        "id": "ce6md36IIyJJ"
      },
      "source": [
        "sales[(len(sales) + 1)] = {'prod' : book_id, 'qn' : book_quan, 'amount' : products[book_id]['Price'] * book_quan}"
      ],
      "execution_count": 45,
      "outputs": []
    },
    {
      "cell_type": "code",
      "metadata": {
        "colab": {
          "base_uri": "https://localhost:8080/"
        },
        "id": "t7HR4T_LI106",
        "outputId": "35a6de00-d437-4fbb-85f2-67f24bd16f9a"
      },
      "source": [
        "sales"
      ],
      "execution_count": 46,
      "outputs": [
        {
          "output_type": "execute_result",
          "data": {
            "text/plain": [
              "{1: {'amount': 700,\n",
              "  'prod': '1244026',\n",
              "  'qn': 7,\n",
              "  'user address': 'jaamnagar 35/667',\n",
              "  'user name': 'Archi Jain',\n",
              "  'user number': 8037965677},\n",
              " 2: {'amount': 700,\n",
              "  'prod': '1244026',\n",
              "  'qn': 7,\n",
              "  'user address': 'jaamnagar 35/667',\n",
              "  'user name': 'Archi Jain',\n",
              "  'user number': 8037965677},\n",
              " 3: {'amount': 700,\n",
              "  'prod': '1244026',\n",
              "  'qn': 7,\n",
              "  'user address': 'jaamnagar 35/667',\n",
              "  'user name': 'Archi Jain',\n",
              "  'user number': 8037965677},\n",
              " 4: {'amount': 700, 'prod': '1244026', 'qn': 7}}"
            ]
          },
          "metadata": {},
          "execution_count": 46
        }
      ]
    },
    {
      "cell_type": "code",
      "metadata": {
        "id": "12NIV9fnI7K4"
      },
      "source": [
        "sale = json.dumps(sales)"
      ],
      "execution_count": 47,
      "outputs": []
    },
    {
      "cell_type": "code",
      "metadata": {
        "id": "8QyOch8xJCS-"
      },
      "source": [
        "fd = open(\"sales.json\",'w')\n",
        "r = fd.write(sale)\n",
        "fd.close()"
      ],
      "execution_count": 48,
      "outputs": []
    },
    {
      "cell_type": "code",
      "metadata": {
        "id": "FBzq_E9OeTqq"
      },
      "source": [
        ""
      ],
      "execution_count": null,
      "outputs": []
    }
  ]
}